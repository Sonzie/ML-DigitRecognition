{
 "cells": [
  {
   "cell_type": "markdown",
   "metadata": {},
   "source": [
    "    //////////////////// IMPORTS ////////////////////"
   ]
  },
  {
   "cell_type": "code",
   "execution_count": 3,
   "metadata": {},
   "outputs": [],
   "source": [
    "import numpy as np\n",
    "import urllib\n",
    "import math\n",
    "import sys\n",
    "import pandas"
   ]
  },
  {
   "cell_type": "markdown",
   "metadata": {},
   "source": [
    "    //////////////////// FUNCTIONS ////////////////////"
   ]
  },
  {
   "cell_type": "markdown",
   "metadata": {},
   "source": [
    "    /////////////////// ACCURACY FUNCTIONS ////////////////////"
   ]
  },
  {
   "cell_type": "code",
   "execution_count": 25,
   "metadata": {},
   "outputs": [],
   "source": [
    "def accuracy(predicted,actual):\n",
    "    correctList = []\n",
    "    nData = len(actual)\n",
    "    #print(nData)\n",
    "    for i in range(0,nData):\n",
    "        if predicted[i] == actual[i]:\n",
    "            correct = 1\n",
    "        else:\n",
    "            correct = 0\n",
    "        #print(correct)\n",
    "        correctList.append(correct)\n",
    "    nCorrect = np.sum(np.array(correctList))\n",
    "    #print(nCorrect)\n",
    "    #print(nData)\n",
    "    pCorrect = (nCorrect/nData)*100\n",
    "    \n",
    "\n",
    "    return [nCorrect, pCorrect]\n",
    "    #print(nIncorrect)\n",
    "    #print(pIncorrect)\n",
    "    #print(pCorrect)"
   ]
  },
  {
   "cell_type": "code",
   "execution_count": 26,
   "metadata": {},
   "outputs": [],
   "source": [
    "def getConfusion(predicted, actual, n=10):\n",
    "    cMat = np.zeros((n, n))\n",
    "    for p, a in zip(predicted, actual):\n",
    "        cMat[a][p] += 1\n",
    "    return cMat.astype(int)"
   ]
  },
  {
   "cell_type": "markdown",
   "metadata": {},
   "source": [
    "    ////////// SHARED FUNCTIONS //////////"
   ]
  },
  {
   "cell_type": "code",
   "execution_count": 20,
   "metadata": {},
   "outputs": [],
   "source": [
    "def sigmoid(x):\n",
    "    return 1/(1 + np.exp(-1 * x))"
   ]
  },
  {
   "cell_type": "code",
   "execution_count": 146,
   "metadata": {},
   "outputs": [],
   "source": [
    "def getBinaryY(yOneHot):\n",
    "    yBinary = []\n",
    "    for col in yOneHot.T:\n",
    "        yBinary.append(np.where(col < 1, -1, col).astype(int))\n",
    "        #print(yBinary)\n",
    "    return yBinary"
   ]
  },
  {
   "cell_type": "markdown",
   "metadata": {},
   "source": [
    "    ////////// SVM FUNCTIONS //////////"
   ]
  },
  {
   "cell_type": "code",
   "execution_count": 255,
   "metadata": {},
   "outputs": [],
   "source": [
    "def svmPredict(w, x):\n",
    "    p = np.dot(x,w)\n",
    "    #print(p)\n",
    "    return sigmoid(p) \n",
    "    #if p > 0:\n",
    "    #    return 1\n",
    "    #return 0"
   ]
  },
  {
   "cell_type": "code",
   "execution_count": 167,
   "metadata": {},
   "outputs": [],
   "source": [
    "def pegasos(X, y, lamda, T = 100):\n",
    "    ns = X.shape[0]\n",
    "    nf = X.shape[1]\n",
    "    thekMap = np.zeros((ns,ns))\n",
    "    w = np.zeros(nf)\n",
    "    for t in range(T):\n",
    "        eta = 1/(lamda * (t + 1))\n",
    "        #print(eta)\n",
    "        factor = w * (1 - (eta * lamda))\n",
    "        #print(factor)\n",
    "        shuffled = np.arange(ns)\n",
    "        np.random.shuffle(shuffled)\n",
    "        for i in shuffled:\n",
    "            #if t > 0:\n",
    "            #    pred = kPredict(w, X[i], X, y, i, thekMap, True)\n",
    "            #else:\n",
    "            #    pred = kPredict(w, X[i], X, y, i, thekMap)\n",
    "            pred = np.dot(x[i],w)\n",
    "            #print(pred)\n",
    "            if pred * y[i] < 1:\n",
    "                w = factor + (eta * y[i] * X[i])\n",
    "            else:\n",
    "                w = factor\n",
    "    return w\n",
    "        "
   ]
  },
  {
   "cell_type": "code",
   "execution_count": 220,
   "metadata": {},
   "outputs": [],
   "source": [
    "def svmTrainNB(X, yBinary, lamda, T = 100):\n",
    "    wList = []\n",
    "    n = 0\n",
    "    for yCat in yBinary:\n",
    "        print(n)\n",
    "        n += 1\n",
    "        wList.append(pegasos(X, yCat, lamda, T))\n",
    "    return wList"
   ]
  },
  {
   "cell_type": "code",
   "execution_count": 178,
   "metadata": {},
   "outputs": [],
   "source": [
    "def svmPredictNB(wList, X): # yBinary is the training y set\n",
    "    predList = []\n",
    "    for sample in X:\n",
    "        predPerCat = []\n",
    "        for weight in wList:\n",
    "            predPerCat.append(svmPredict(weight, sample))\n",
    "        #print(predPerCat)\n",
    "        predList.append(predPerCat.index(max(predPerCat)))\n",
    "    return predList"
   ]
  },
  {
   "cell_type": "markdown",
   "metadata": {},
   "source": [
    "    ////////// KERNEL PERCEPTRON FUNCTIONS //////////"
   ]
  },
  {
   "cell_type": "code",
   "execution_count": 144,
   "metadata": {},
   "outputs": [],
   "source": [
    "def kern(x1,x2,d=2,c=1):\n",
    "    pre = c + np.dot(x1.T,x2)\n",
    "    #print(pre)\n",
    "    ret = pre**d\n",
    "    return ret"
   ]
  },
  {
   "cell_type": "code",
   "execution_count": 145,
   "metadata": {},
   "outputs": [],
   "source": [
    "def kPredict(alpha,xj,xData,yData,j=0,kMap=None,mapped=False):\n",
    "    #print(type(kMap))\n",
    "    #print(\"kPredict\")\n",
    "    yp = 0\n",
    "    for i in range(yData.size - 1):\n",
    "        if not mapped:\n",
    "                k = kern(xData[i],xj)\n",
    "                if not type(kMap) == type(None):\n",
    "                        kMap[i][j]=k\n",
    "                #print(\"calculated k\")\n",
    "        else:\n",
    "                k = kMap[i,j]\n",
    "                #print(\"k from map\")\n",
    "        #print(\"k: \", k)\n",
    "        yp += alpha[i] * yData[i] * k \n",
    "        #print(\"yp: \", yp)\n",
    "    if yp > 0:\n",
    "            yPredicted = 1\n",
    "    else:\n",
    "            yPredicted = -1\n",
    "    return yPredicted"
   ]
  },
  {
   "cell_type": "code",
   "execution_count": null,
   "metadata": {},
   "outputs": [],
   "source": [
    "def train(x, y, T=100):\n",
    "    ns = x.shape[0]\n",
    "    nf = x.shape[1]\n",
    "    #print(\"ns: \", nf)\n",
    "    a = np.zeros(ns)\n",
    "    iRange = range(T)\n",
    "    jRange = range(ns)\n",
    "    aMax = 0\n",
    "    thekMap = np.zeros((a.size,len(jRange)))\n",
    "\n",
    "    for i in iRange:\n",
    "        for j in jRange:\n",
    "            if i <= 0:\n",
    "                yHat = kPredict(a,x[j,:],x,y,j,thekMap)\n",
    "            else:\n",
    "                yHat = kPredict(a,x[j,:],x,y,j,thekMap,True)\n",
    "\n",
    "            if yHat != y[j]:\n",
    "                a[j] += 1\n",
    "            if a[j] > aMax:\n",
    "                aMax = a[j]\n",
    "        if aMax < i:\n",
    "            print(\"Stoped training early as alpha is static\")\n",
    "            break\n",
    "            #print(\"a[j]: \", a[j])\n",
    "        #print(a)\n",
    "    return a"
   ]
  },
  {
   "cell_type": "code",
   "execution_count": null,
   "metadata": {},
   "outputs": [],
   "source": [
    "def kernelTrainNB(X, yBinary, T = 100):\n",
    "    aList = []\n",
    "    for yCat in yBinary:\n",
    "        aList.append(train(X, yCat, T))\n",
    "    return aList"
   ]
  },
  {
   "cell_type": "code",
   "execution_count": null,
   "metadata": {},
   "outputs": [],
   "source": [
    "def predictNB(aList, X, Xtrain, yBinary):# yBinary is the training y set\n",
    "    predList = []\n",
    "    for sample in X:\n",
    "        predPerCat = []\n",
    "        for yCat, alpha in zip(yBinary, aList):\n",
    "            predPerCat.append(kPredict(alpha, sample, Xtrain, yCat))\n",
    "        predList.append(predPerCat.index(max(predPerCat)))\n",
    "    return predList"
   ]
  },
  {
   "cell_type": "markdown",
   "metadata": {},
   "source": [
    "    ////////// NEURAL NETWORK FUNCTIONS //////////"
   ]
  },
  {
   "cell_type": "code",
   "execution_count": 4,
   "metadata": {},
   "outputs": [],
   "source": [
    "def initWeight(sz):\n",
    "    return np.random.randn(sz)"
   ]
  },
  {
   "cell_type": "code",
   "execution_count": 5,
   "metadata": {},
   "outputs": [],
   "source": [
    "def initNN(nIn, nHid, nOut):\n",
    "    net = []\n",
    "    hidLayer = []\n",
    "    for i in range(nHid):\n",
    "        hidLayer.append({'weights':initWeight(nIn)})\n",
    "    net.append(hidLayer)\n",
    "    outLayer = []\n",
    "    for j in range(nOut):\n",
    "        outLayer.append({'weights':initWeight(nHid)})\n",
    "    net.append(outLayer)\n",
    "    return net"
   ]
  },
  {
   "cell_type": "code",
   "execution_count": 6,
   "metadata": {},
   "outputs": [],
   "source": [
    "def activate(wt,xData):\n",
    "    #print(\"wt: \", wt)\n",
    "    #print(\"xData: \", xData)\n",
    "    wSum = np.dot(wt,xData)\n",
    "    #print(\"wSum\", wSum)\n",
    "    s = sigmoid(wSum)\n",
    "    #print(\"s: \", s)\n",
    "    return s"
   ]
  },
  {
   "cell_type": "code",
   "execution_count": 7,
   "metadata": {},
   "outputs": [],
   "source": [
    "def fwdProp(net, sample):\n",
    "    sampleIn = sample\n",
    "    for layer in net:\n",
    "        inputs = []\n",
    "        for neuron in layer:\n",
    "            activation = activate(neuron['weights'], sampleIn)\n",
    "            #print(activation)\n",
    "            neuron['out'] = activation\n",
    "            inputs.append(neuron['out'])\n",
    "        sampleIn = inputs\n",
    "    return sampleIn"
   ]
  },
  {
   "cell_type": "code",
   "execution_count": 8,
   "metadata": {},
   "outputs": [],
   "source": [
    "def derive_activation(pred):\n",
    "    return pred * (1 - pred)"
   ]
  },
  {
   "cell_type": "code",
   "execution_count": 9,
   "metadata": {},
   "outputs": [],
   "source": [
    "def getCost(pred, actual):\n",
    "    cList = []\n",
    "    for p, a in zip(pred, actual):\n",
    "        cList.append(pow((p - a), 2))\n",
    "    return sum(cList)"
   ]
  },
  {
   "cell_type": "code",
   "execution_count": 10,
   "metadata": {},
   "outputs": [],
   "source": [
    "def backProp(net, actual):\n",
    "    for i in reversed(range(len(net))):\n",
    "        layer = net[i]\n",
    "        errs = []\n",
    "        if i == len(net) - 1:\n",
    "            for j, neuron in enumerate(layer):\n",
    "                #print(neuron['out'])\n",
    "                errs.append(actual[j] - neuron['out'])\n",
    "                #print(errs[j])\n",
    "        else:\n",
    "            for j in range(len(layer)):\n",
    "                err = 0.0\n",
    "                for neuron in net[i + 1]:\n",
    "                    err += (neuron['weights'][j] * neuron['offset'])\n",
    "                errs.append(err)\n",
    "        for j, neuron in enumerate(layer):\n",
    "            #print(neuron['out'])\n",
    "            neuron['offset'] = errs[j] * derive_activation(neuron['out'])\n"
   ]
  },
  {
   "cell_type": "code",
   "execution_count": 11,
   "metadata": {},
   "outputs": [],
   "source": [
    "def updateWeights(net, sample, rate):\n",
    "    for i, layer in enumerate(net):\n",
    "        inputs = sample[:-1]\n",
    "        if not i == 0:\n",
    "            inputs = []\n",
    "            for neuron in net[i - 1]:\n",
    "                inputs.append(neuron['out'])\n",
    "        for neuron in layer:\n",
    "            for j, anInput in enumerate(inputs):\n",
    "                neuron['weights'][j] += rate * neuron['offset'] * anInput"
   ]
  },
  {
   "cell_type": "code",
   "execution_count": 12,
   "metadata": {},
   "outputs": [],
   "source": [
    "def trainNN(net, X, y, rate, T, nOut):\n",
    "    for t in range(T):\n",
    "        sys.stdout.write(\"\\r\" + str(t) + \"  \")\n",
    "        sys.stdout.flush()\n",
    "        for i, sample in enumerate(X):\n",
    "            outs = fwdProp(net, sample)\n",
    "            backProp(net, y[i])\n",
    "            updateWeights(net, sample, rate)"
   ]
  },
  {
   "cell_type": "code",
   "execution_count": 13,
   "metadata": {},
   "outputs": [],
   "source": [
    "def predictNN(net, sample):\n",
    "    pred = fwdProp(net, sample)\n",
    "    return pred.index(max(pred))"
   ]
  },
  {
   "cell_type": "markdown",
   "metadata": {},
   "source": [
    "    //////////////////// ALL FUNCTIONS ABOVE ////////////////////"
   ]
  },
  {
   "cell_type": "markdown",
   "metadata": {},
   "source": [
    "    //////////////////// DATA IMPORT AND FORMATTING ////////////////////"
   ]
  },
  {
   "cell_type": "code",
   "execution_count": 14,
   "metadata": {
    "tags": [
     "outputPrepend"
    ]
   },
   "outputs": [],
   "source": [
    "import numpy as np\n",
    "import urllib\n",
    "\n",
    "nF = 780\n",
    "dta = []\n",
    "y = []\n",
    "with open(\"../input/mnistscale/mnist.scale\") as f:\n",
    "    for line in f:\n",
    "        lineArray = np.zeros(nF)\n",
    "        ln = line.replace(\" \\n\",\"\")\n",
    "        rawLine = ln.split(\" \")\n",
    "        #print(rawLine)\n",
    "        for pixel in rawLine:\n",
    "            if \":\" in pixel:\n",
    "                breakdown = pixel.split(\":\")\n",
    "                #print(breakdown)\n",
    "                lineArray[int(breakdown[0]) - 1] = float(breakdown[1])\n",
    "            else:\n",
    "                #print(pixel)\n",
    "                #lineArray[0] = int(pixel)\n",
    "                y.append(int(pixel))\n",
    "        #print(lineArray)\n",
    "        dta.append(lineArray)\n",
    "        #print(len(dta))"
   ]
  },
  {
   "cell_type": "code",
   "execution_count": 15,
   "metadata": {},
   "outputs": [],
   "source": [
    "x = np.array(dta)\n",
    "ynp = np.array(y)\n",
    "XtrainSmall = x[0:500]\n",
    "yTrainSmall = ynp[0:500]\n",
    "\n",
    "yTrainSmallArrays = []\n",
    "for yVal in yTrainSmall:\n",
    "    yArr = np.zeros(10)\n",
    "    yArr[yVal] = 1\n",
    "    yTrainSmallArrays.append(yArr)\n",
    "yTrainSmallArrays = np.array(yTrainSmallArrays)\n",
    "\n",
    "yOneHot = []\n",
    "for yVal in ynp:\n",
    "    yArr = np.zeros(10)\n",
    "    yArr[yVal] = 1\n",
    "    yOneHot.append(yArr)\n",
    "yOneHot = np.array(yOneHot)\n",
    "\n",
    "Xtrain = x[0:42000]\n",
    "Xtest = x[42001:]\n",
    "yOneHotTrain = yOneHot[0:42000]\n",
    "yOneHotTest = yOneHot[42001:]\n",
    "ynpTest = ynp[42001:]"
   ]
  },
  {
   "cell_type": "code",
   "execution_count": 17,
   "metadata": {},
   "outputs": [
    {
     "name": "stdout",
     "output_type": "stream",
     "text": [
      "42000\n"
     ]
    }
   ],
   "source": [
    "print(len(Xtrain))"
   ]
  },
  {
   "cell_type": "code",
   "execution_count": 16,
   "metadata": {},
   "outputs": [],
   "source": [
    "nSplit = 840\n",
    "XtrainBatches = np.split(Xtrain, nSplit)\n",
    "yOneHotTrainBatches = np.split(yOneHotTrain, nSplit)"
   ]
  },
  {
   "cell_type": "code",
   "execution_count": 18,
   "metadata": {},
   "outputs": [
    {
     "name": "stdout",
     "output_type": "stream",
     "text": [
      "840\n"
     ]
    }
   ],
   "source": [
    "print(len(XtrainBatches))"
   ]
  },
  {
   "cell_type": "markdown",
   "metadata": {},
   "source": [
    "    ///////// SVM IMPLEMENTATION //////////"
   ]
  },
  {
   "cell_type": "code",
   "execution_count": 217,
   "metadata": {},
   "outputs": [],
   "source": [
    "yTrainBinary = getBinaryY(yOneHotTrain)"
   ]
  },
  {
   "cell_type": "code",
   "execution_count": 221,
   "metadata": {},
   "outputs": [
    {
     "name": "stdout",
     "output_type": "stream",
     "text": [
      "0\n",
      "1\n",
      "2\n",
      "3\n",
      "4\n",
      "5\n",
      "6\n",
      "7\n",
      "8\n",
      "9\n"
     ]
    }
   ],
   "source": [
    "weightList = svmTrainNB(Xtrain, yTrainBinary, 0.001, 300)\n",
    "#print(weightList)"
   ]
  },
  {
   "cell_type": "code",
   "execution_count": 256,
   "metadata": {},
   "outputs": [
    {
     "name": "stderr",
     "output_type": "stream",
     "text": [
      "/opt/conda/lib/python3.7/site-packages/ipykernel_launcher.py:2: RuntimeWarning: overflow encountered in exp\n",
      "  \n"
     ]
    }
   ],
   "source": [
    "predictions = svmPredictNB(weightList, Xtest)\n",
    "#print(predictions)"
   ]
  },
  {
   "cell_type": "code",
   "execution_count": 261,
   "metadata": {},
   "outputs": [
    {
     "name": "stdout",
     "output_type": "stream",
     "text": [
      "SVM Accuracy:\n",
      "Number correct:  13424  out of  17999\n",
      "Percentage correct:  74.58192121784543 %\n"
     ]
    }
   ],
   "source": [
    "errSVM = accuracy(predictions, ynpTest)\n",
    "\n",
    "print(\"SVM Accuracy:\")\n",
    "print(\"Number correct: \", errSVM[0], \" out of \", len(predictions))\n",
    "print(\"Percentage correct: \", errSVM[1], \"%\")"
   ]
  },
  {
   "cell_type": "code",
   "execution_count": 272,
   "metadata": {},
   "outputs": [
    {
     "name": "stdout",
     "output_type": "stream",
     "text": [
      "SVM Confusion Matrix: \n"
     ]
    },
    {
     "data": {
      "text/html": [
       "<div>\n",
       "<style scoped>\n",
       "    .dataframe tbody tr th:only-of-type {\n",
       "        vertical-align: middle;\n",
       "    }\n",
       "\n",
       "    .dataframe tbody tr th {\n",
       "        vertical-align: top;\n",
       "    }\n",
       "\n",
       "    .dataframe thead th {\n",
       "        text-align: right;\n",
       "    }\n",
       "</style>\n",
       "<table border=\"1\" class=\"dataframe\">\n",
       "  <thead>\n",
       "    <tr style=\"text-align: right;\">\n",
       "      <th></th>\n",
       "      <th>0</th>\n",
       "      <th>1</th>\n",
       "      <th>2</th>\n",
       "      <th>3</th>\n",
       "      <th>4</th>\n",
       "      <th>5</th>\n",
       "      <th>6</th>\n",
       "      <th>7</th>\n",
       "      <th>8</th>\n",
       "      <th>9</th>\n",
       "    </tr>\n",
       "  </thead>\n",
       "  <tbody>\n",
       "    <tr>\n",
       "      <th>0</th>\n",
       "      <td>1700</td>\n",
       "      <td>0</td>\n",
       "      <td>24</td>\n",
       "      <td>22</td>\n",
       "      <td>3</td>\n",
       "      <td>16</td>\n",
       "      <td>2</td>\n",
       "      <td>1</td>\n",
       "      <td>8</td>\n",
       "      <td>4</td>\n",
       "    </tr>\n",
       "    <tr>\n",
       "      <th>1</th>\n",
       "      <td>1</td>\n",
       "      <td>1783</td>\n",
       "      <td>54</td>\n",
       "      <td>49</td>\n",
       "      <td>3</td>\n",
       "      <td>13</td>\n",
       "      <td>2</td>\n",
       "      <td>6</td>\n",
       "      <td>31</td>\n",
       "      <td>0</td>\n",
       "    </tr>\n",
       "    <tr>\n",
       "      <th>2</th>\n",
       "      <td>50</td>\n",
       "      <td>10</td>\n",
       "      <td>1594</td>\n",
       "      <td>19</td>\n",
       "      <td>19</td>\n",
       "      <td>7</td>\n",
       "      <td>27</td>\n",
       "      <td>38</td>\n",
       "      <td>28</td>\n",
       "      <td>19</td>\n",
       "    </tr>\n",
       "    <tr>\n",
       "      <th>3</th>\n",
       "      <td>55</td>\n",
       "      <td>21</td>\n",
       "      <td>279</td>\n",
       "      <td>1274</td>\n",
       "      <td>4</td>\n",
       "      <td>123</td>\n",
       "      <td>5</td>\n",
       "      <td>31</td>\n",
       "      <td>50</td>\n",
       "      <td>21</td>\n",
       "    </tr>\n",
       "    <tr>\n",
       "      <th>4</th>\n",
       "      <td>27</td>\n",
       "      <td>27</td>\n",
       "      <td>68</td>\n",
       "      <td>68</td>\n",
       "      <td>1277</td>\n",
       "      <td>18</td>\n",
       "      <td>6</td>\n",
       "      <td>18</td>\n",
       "      <td>35</td>\n",
       "      <td>199</td>\n",
       "    </tr>\n",
       "    <tr>\n",
       "      <th>5</th>\n",
       "      <td>79</td>\n",
       "      <td>31</td>\n",
       "      <td>186</td>\n",
       "      <td>179</td>\n",
       "      <td>61</td>\n",
       "      <td>976</td>\n",
       "      <td>12</td>\n",
       "      <td>14</td>\n",
       "      <td>47</td>\n",
       "      <td>52</td>\n",
       "    </tr>\n",
       "    <tr>\n",
       "      <th>6</th>\n",
       "      <td>120</td>\n",
       "      <td>15</td>\n",
       "      <td>500</td>\n",
       "      <td>7</td>\n",
       "      <td>55</td>\n",
       "      <td>62</td>\n",
       "      <td>972</td>\n",
       "      <td>0</td>\n",
       "      <td>6</td>\n",
       "      <td>1</td>\n",
       "    </tr>\n",
       "    <tr>\n",
       "      <th>7</th>\n",
       "      <td>201</td>\n",
       "      <td>23</td>\n",
       "      <td>40</td>\n",
       "      <td>28</td>\n",
       "      <td>27</td>\n",
       "      <td>3</td>\n",
       "      <td>1</td>\n",
       "      <td>1528</td>\n",
       "      <td>52</td>\n",
       "      <td>32</td>\n",
       "    </tr>\n",
       "    <tr>\n",
       "      <th>8</th>\n",
       "      <td>22</td>\n",
       "      <td>85</td>\n",
       "      <td>235</td>\n",
       "      <td>167</td>\n",
       "      <td>15</td>\n",
       "      <td>89</td>\n",
       "      <td>3</td>\n",
       "      <td>19</td>\n",
       "      <td>1143</td>\n",
       "      <td>33</td>\n",
       "    </tr>\n",
       "    <tr>\n",
       "      <th>9</th>\n",
       "      <td>60</td>\n",
       "      <td>38</td>\n",
       "      <td>41</td>\n",
       "      <td>40</td>\n",
       "      <td>71</td>\n",
       "      <td>28</td>\n",
       "      <td>1</td>\n",
       "      <td>191</td>\n",
       "      <td>92</td>\n",
       "      <td>1177</td>\n",
       "    </tr>\n",
       "  </tbody>\n",
       "</table>\n",
       "</div>"
      ],
      "text/plain": [
       "      0     1     2     3     4    5    6     7     8     9\n",
       "0  1700     0    24    22     3   16    2     1     8     4\n",
       "1     1  1783    54    49     3   13    2     6    31     0\n",
       "2    50    10  1594    19    19    7   27    38    28    19\n",
       "3    55    21   279  1274     4  123    5    31    50    21\n",
       "4    27    27    68    68  1277   18    6    18    35   199\n",
       "5    79    31   186   179    61  976   12    14    47    52\n",
       "6   120    15   500     7    55   62  972     0     6     1\n",
       "7   201    23    40    28    27    3    1  1528    52    32\n",
       "8    22    85   235   167    15   89    3    19  1143    33\n",
       "9    60    38    41    40    71   28    1   191    92  1177"
      ]
     },
     "execution_count": 272,
     "metadata": {},
     "output_type": "execute_result"
    }
   ],
   "source": [
    "confusionSVM = getConfusion(predictions, ynpTest)\n",
    "label = np.arange(10)\n",
    "cmSVM = pandas.DataFrame(confusionSVM, columns = label, index = label)\n",
    "print(\"SVM Confusion Matrix: \")\n",
    "cmSVM"
   ]
  },
  {
   "cell_type": "markdown",
   "metadata": {},
   "source": [
    "    ////////// KERNEL PERCEPTRON IMPLEMENTATION //////////"
   ]
  },
  {
   "cell_type": "code",
   "execution_count": 273,
   "metadata": {},
   "outputs": [],
   "source": [
    "yBinary = getBinaryY(yTrainSmallArrays)\n",
    "XtestSmall = Xtest[0:500]\n",
    "yTestSmall = ynpTest[0:500]"
   ]
  },
  {
   "cell_type": "code",
   "execution_count": 274,
   "metadata": {},
   "outputs": [
    {
     "name": "stdout",
     "output_type": "stream",
     "text": [
      "Stoped training early as alpha is static\n",
      "Stoped training early as alpha is static\n",
      "Stoped training early as alpha is static\n",
      "Stoped training early as alpha is static\n",
      "Stoped training early as alpha is static\n",
      "Stoped training early as alpha is static\n",
      "Stoped training early as alpha is static\n",
      "Stoped training early as alpha is static\n",
      "Stoped training early as alpha is static\n",
      "Stoped training early as alpha is static\n"
     ]
    }
   ],
   "source": [
    "#Smaller training sets were used for final report due to time constraints.\n",
    "alphaList = kernelTrainNB(XtrainSmall, yBinary)"
   ]
  },
  {
   "cell_type": "code",
   "execution_count": 275,
   "metadata": {},
   "outputs": [
    {
     "name": "stdout",
     "output_type": "stream",
     "text": [
      "[2, 1, 8, 9, 0, 8, 6, 0, 8, 0, 7, 2, 9, 2, 1, 7, 9, 9, 2, 0, 6, 6, 7, 3, 6, 1, 6, 1, 0, 7, 7, 0, 4, 8, 0, 7, 0, 0, 1, 1, 3, 9, 3, 1, 0, 0, 5, 9, 5, 0, 0, 9, 0, 3, 3, 3, 7, 1, 0, 8, 7, 7, 0, 7, 2, 6, 7, 2, 0, 2, 1, 6, 3, 0, 6, 9, 7, 9, 8, 6, 0, 3, 0, 0, 0, 0, 3, 0, 6, 9, 0, 2, 1, 7, 2, 8, 0, 1, 9, 0, 0, 1, 6, 0, 7, 9, 8, 0, 0, 5, 0, 8, 1, 1, 0, 4, 0, 9, 0, 3, 0, 5, 0, 9, 0, 2, 8, 4, 9, 8, 0, 1, 0, 7, 2, 0, 0, 2, 8, 0, 0, 2, 0, 0, 7, 7, 8, 9, 9, 0, 6, 9, 0, 0, 8, 1, 0, 2, 2, 6, 0, 6, 0, 7, 9, 6, 9, 2, 7, 0, 1, 6, 9, 6, 1, 1, 7, 0, 1, 0, 9, 1, 0, 1, 0, 3, 4, 2, 1, 6, 7, 9, 8, 1, 0, 8, 1, 4, 0, 7, 0, 7, 2, 7, 1, 2, 0, 8, 0, 3, 9, 3, 8, 7, 3, 9, 0, 8, 2, 9, 5, 9, 2, 0, 6, 8, 0, 2, 5, 0, 9, 5, 9, 6, 0, 4, 0, 8, 0, 2, 8, 1, 0, 5, 0, 0, 0, 3, 9, 0, 3, 5, 0, 2, 0, 6, 0, 8, 8, 1, 1, 0, 0, 0, 0, 8, 4, 1, 7, 0, 0, 3, 2, 5, 0, 1, 0, 2, 1, 2, 7, 7, 7, 3, 9, 9, 4, 1, 9, 9, 8, 9, 9, 0, 6, 7, 8, 7, 8, 4, 2, 0, 2, 4, 6, 9, 1, 2, 2, 2, 9, 0, 8, 1, 9, 1, 4, 9, 2, 7, 4, 5, 2, 0, 6, 1, 2, 2, 9, 0, 8, 1, 0, 5, 0, 2, 0, 5, 1, 0, 2, 0, 3, 7, 4, 4, 0, 1, 0, 6, 1, 7, 2, 0, 1, 7, 4, 0, 0, 9, 6, 0, 3, 0, 0, 2, 3, 7, 0, 6, 1, 5, 2, 0, 3, 9, 4, 0, 5, 1, 6, 4, 0, 0, 9, 6, 5, 8, 0, 0, 3, 5, 1, 2, 6, 6, 0, 3, 4, 9, 1, 0, 7, 1, 6, 1, 0, 8, 2, 7, 4, 1, 2, 5, 1, 7, 8, 7, 3, 0, 4, 1, 3, 1, 4, 0, 2, 0, 2, 7, 5, 3, 0, 7, 1, 5, 9, 0, 2, 1, 3, 0, 2, 0, 3, 0, 5, 0, 5, 6, 7, 6, 8, 2, 4, 0, 0, 9, 9, 1, 7, 1, 1, 4, 9, 2, 4, 7, 3, 8, 4, 3, 8, 2, 6, 3, 3, 9, 8, 5, 2, 0, 0, 4, 1, 1, 0, 0, 6, 6, 4, 9, 3, 1, 8, 8, 7, 0, 0, 9]\n"
     ]
    }
   ],
   "source": [
    "predictedList = predictNB(alphaList, XtestSmall, XtrainSmall, yBinary)\n",
    "print(predictedList)"
   ]
  },
  {
   "cell_type": "code",
   "execution_count": 276,
   "metadata": {},
   "outputs": [
    {
     "name": "stdout",
     "output_type": "stream",
     "text": [
      "Kernel Perceptron Accuracy:\n",
      "Number correct:  366  out of  500\n",
      "Percentage correct:  73.2 %\n"
     ]
    }
   ],
   "source": [
    "erKernel = accuracy(predictedList, yTestSmall)\n",
    "\n",
    "print(\"Kernel Perceptron Accuracy:\")\n",
    "print(\"Number correct: \", erKernel[0], \" out of \", len(predictedList))\n",
    "print(\"Percentage correct: \", erKernel[1], \"%\")"
   ]
  },
  {
   "cell_type": "code",
   "execution_count": 277,
   "metadata": {},
   "outputs": [
    {
     "name": "stdout",
     "output_type": "stream",
     "text": [
      "Kernel Perceptron Confusion Matrix: \n"
     ]
    },
    {
     "data": {
      "text/html": [
       "<div>\n",
       "<style scoped>\n",
       "    .dataframe tbody tr th:only-of-type {\n",
       "        vertical-align: middle;\n",
       "    }\n",
       "\n",
       "    .dataframe tbody tr th {\n",
       "        vertical-align: top;\n",
       "    }\n",
       "\n",
       "    .dataframe thead th {\n",
       "        text-align: right;\n",
       "    }\n",
       "</style>\n",
       "<table border=\"1\" class=\"dataframe\">\n",
       "  <thead>\n",
       "    <tr style=\"text-align: right;\">\n",
       "      <th></th>\n",
       "      <th>0</th>\n",
       "      <th>1</th>\n",
       "      <th>2</th>\n",
       "      <th>3</th>\n",
       "      <th>4</th>\n",
       "      <th>5</th>\n",
       "      <th>6</th>\n",
       "      <th>7</th>\n",
       "      <th>8</th>\n",
       "      <th>9</th>\n",
       "    </tr>\n",
       "  </thead>\n",
       "  <tbody>\n",
       "    <tr>\n",
       "      <th>0</th>\n",
       "      <td>50</td>\n",
       "      <td>0</td>\n",
       "      <td>0</td>\n",
       "      <td>0</td>\n",
       "      <td>0</td>\n",
       "      <td>0</td>\n",
       "      <td>0</td>\n",
       "      <td>0</td>\n",
       "      <td>0</td>\n",
       "      <td>0</td>\n",
       "    </tr>\n",
       "    <tr>\n",
       "      <th>1</th>\n",
       "      <td>2</td>\n",
       "      <td>56</td>\n",
       "      <td>0</td>\n",
       "      <td>0</td>\n",
       "      <td>0</td>\n",
       "      <td>0</td>\n",
       "      <td>0</td>\n",
       "      <td>0</td>\n",
       "      <td>0</td>\n",
       "      <td>0</td>\n",
       "    </tr>\n",
       "    <tr>\n",
       "      <th>2</th>\n",
       "      <td>4</td>\n",
       "      <td>0</td>\n",
       "      <td>43</td>\n",
       "      <td>1</td>\n",
       "      <td>1</td>\n",
       "      <td>0</td>\n",
       "      <td>0</td>\n",
       "      <td>0</td>\n",
       "      <td>1</td>\n",
       "      <td>0</td>\n",
       "    </tr>\n",
       "    <tr>\n",
       "      <th>3</th>\n",
       "      <td>15</td>\n",
       "      <td>2</td>\n",
       "      <td>4</td>\n",
       "      <td>30</td>\n",
       "      <td>0</td>\n",
       "      <td>0</td>\n",
       "      <td>0</td>\n",
       "      <td>1</td>\n",
       "      <td>0</td>\n",
       "      <td>1</td>\n",
       "    </tr>\n",
       "    <tr>\n",
       "      <th>4</th>\n",
       "      <td>7</td>\n",
       "      <td>0</td>\n",
       "      <td>0</td>\n",
       "      <td>1</td>\n",
       "      <td>21</td>\n",
       "      <td>0</td>\n",
       "      <td>0</td>\n",
       "      <td>0</td>\n",
       "      <td>2</td>\n",
       "      <td>11</td>\n",
       "    </tr>\n",
       "    <tr>\n",
       "      <th>5</th>\n",
       "      <td>13</td>\n",
       "      <td>0</td>\n",
       "      <td>0</td>\n",
       "      <td>0</td>\n",
       "      <td>4</td>\n",
       "      <td>22</td>\n",
       "      <td>0</td>\n",
       "      <td>0</td>\n",
       "      <td>1</td>\n",
       "      <td>0</td>\n",
       "    </tr>\n",
       "    <tr>\n",
       "      <th>6</th>\n",
       "      <td>10</td>\n",
       "      <td>0</td>\n",
       "      <td>2</td>\n",
       "      <td>0</td>\n",
       "      <td>0</td>\n",
       "      <td>0</td>\n",
       "      <td>37</td>\n",
       "      <td>0</td>\n",
       "      <td>0</td>\n",
       "      <td>0</td>\n",
       "    </tr>\n",
       "    <tr>\n",
       "      <th>7</th>\n",
       "      <td>6</td>\n",
       "      <td>1</td>\n",
       "      <td>2</td>\n",
       "      <td>1</td>\n",
       "      <td>0</td>\n",
       "      <td>0</td>\n",
       "      <td>0</td>\n",
       "      <td>40</td>\n",
       "      <td>0</td>\n",
       "      <td>5</td>\n",
       "    </tr>\n",
       "    <tr>\n",
       "      <th>8</th>\n",
       "      <td>10</td>\n",
       "      <td>1</td>\n",
       "      <td>0</td>\n",
       "      <td>0</td>\n",
       "      <td>1</td>\n",
       "      <td>1</td>\n",
       "      <td>0</td>\n",
       "      <td>0</td>\n",
       "      <td>34</td>\n",
       "      <td>2</td>\n",
       "    </tr>\n",
       "    <tr>\n",
       "      <th>9</th>\n",
       "      <td>13</td>\n",
       "      <td>0</td>\n",
       "      <td>1</td>\n",
       "      <td>1</td>\n",
       "      <td>0</td>\n",
       "      <td>0</td>\n",
       "      <td>0</td>\n",
       "      <td>5</td>\n",
       "      <td>1</td>\n",
       "      <td>33</td>\n",
       "    </tr>\n",
       "  </tbody>\n",
       "</table>\n",
       "</div>"
      ],
      "text/plain": [
       "    0   1   2   3   4   5   6   7   8   9\n",
       "0  50   0   0   0   0   0   0   0   0   0\n",
       "1   2  56   0   0   0   0   0   0   0   0\n",
       "2   4   0  43   1   1   0   0   0   1   0\n",
       "3  15   2   4  30   0   0   0   1   0   1\n",
       "4   7   0   0   1  21   0   0   0   2  11\n",
       "5  13   0   0   0   4  22   0   0   1   0\n",
       "6  10   0   2   0   0   0  37   0   0   0\n",
       "7   6   1   2   1   0   0   0  40   0   5\n",
       "8  10   1   0   0   1   1   0   0  34   2\n",
       "9  13   0   1   1   0   0   0   5   1  33"
      ]
     },
     "execution_count": 277,
     "metadata": {},
     "output_type": "execute_result"
    }
   ],
   "source": [
    "confusionKernel = getConfusion(predictedList, ynpTest)\n",
    "label = np.arange(10)\n",
    "cmKernel = pandas.DataFrame(confusionKernel, columns = label, index = label)\n",
    "print(\"Kernel Perceptron Confusion Matrix: \")\n",
    "cmKernel"
   ]
  },
  {
   "cell_type": "markdown",
   "metadata": {},
   "source": [
    "    ////////// NEURAL NETWORK IMPLEMENTATION //////////"
   ]
  },
  {
   "cell_type": "code",
   "execution_count": 29,
   "metadata": {},
   "outputs": [
    {
     "name": "stdout",
     "output_type": "stream",
     "text": [
      "99     200  "
     ]
    }
   ],
   "source": [
    "#Neural Network Training by batches\n",
    "#originallly I trained all batches but this took too long to complete\n",
    "#I have reduced the amount of batches due to time constraints\n",
    "nPerLayer = 5\n",
    "nLastLayer = 10\n",
    "myNetwork = None\n",
    "i = 1\n",
    "for xBatch, yBatch in zip(XtrainBatches[0:200], yOneHotTrainBatches[0:200]):\n",
    "    sys.stdout.write(\"\\r       \" + str(i) + \"  \")\n",
    "    i += 1\n",
    "    sys.stdout.flush()\n",
    "    nsX = xBatch.shape[0]\n",
    "    nfX = xBatch.shape[1]\n",
    "    #print(yTrainSmallArrays)\n",
    "    if type(myNetwork) == type(None):\n",
    "        myNetwork = initNN(nfX, nPerLayer, nLastLayer)\n",
    "    trainNN(myNetwork, xBatch, yBatch, 0.5, 100, 10)"
   ]
  },
  {
   "cell_type": "code",
   "execution_count": 30,
   "metadata": {},
   "outputs": [],
   "source": [
    "for i in range(600,700):\n",
    "    fp = fwdProp(myNetwork, x[i])\n",
    "    prediction = predictNN(myNetwork, x[i])\n",
    "    actual = ynp[i]\n",
    "    #print(\"\\nfp: \", fp)\n",
    "    #print(\"Predicted: \", prediction, \"\\tActual: \", actual)"
   ]
  },
  {
   "cell_type": "code",
   "execution_count": 31,
   "metadata": {},
   "outputs": [
    {
     "name": "stdout",
     "output_type": "stream",
     "text": [
      "Neural Network Accuracy:\n",
      "Number correct:  12720  out of  17999\n",
      "Percentage correct:  70.67059281071171 %\n"
     ]
    }
   ],
   "source": [
    "preds = []\n",
    "for sample in Xtest:\n",
    "    preds.append(predictNN(myNetwork, sample))\n",
    "    \n",
    "er = accuracy(preds, ynpTest)\n",
    "print(\"Neural Network Accuracy:\")\n",
    "print(\"Number correct: \", er[0], \" out of \", len(preds))\n",
    "print(\"Percentage correct: \", er[1], \"%\")\n"
   ]
  },
  {
   "cell_type": "code",
   "execution_count": 32,
   "metadata": {},
   "outputs": [
    {
     "name": "stdout",
     "output_type": "stream",
     "text": [
      "Neural Network Confusion Matrix: \n"
     ]
    },
    {
     "data": {
      "text/html": [
       "<div>\n",
       "<style scoped>\n",
       "    .dataframe tbody tr th:only-of-type {\n",
       "        vertical-align: middle;\n",
       "    }\n",
       "\n",
       "    .dataframe tbody tr th {\n",
       "        vertical-align: top;\n",
       "    }\n",
       "\n",
       "    .dataframe thead th {\n",
       "        text-align: right;\n",
       "    }\n",
       "</style>\n",
       "<table border=\"1\" class=\"dataframe\">\n",
       "  <thead>\n",
       "    <tr style=\"text-align: right;\">\n",
       "      <th></th>\n",
       "      <th>0</th>\n",
       "      <th>1</th>\n",
       "      <th>2</th>\n",
       "      <th>3</th>\n",
       "      <th>4</th>\n",
       "      <th>5</th>\n",
       "      <th>6</th>\n",
       "      <th>7</th>\n",
       "      <th>8</th>\n",
       "      <th>9</th>\n",
       "    </tr>\n",
       "  </thead>\n",
       "  <tbody>\n",
       "    <tr>\n",
       "      <th>0</th>\n",
       "      <td>1555</td>\n",
       "      <td>0</td>\n",
       "      <td>138</td>\n",
       "      <td>7</td>\n",
       "      <td>7</td>\n",
       "      <td>22</td>\n",
       "      <td>6</td>\n",
       "      <td>12</td>\n",
       "      <td>33</td>\n",
       "      <td>0</td>\n",
       "    </tr>\n",
       "    <tr>\n",
       "      <th>1</th>\n",
       "      <td>0</td>\n",
       "      <td>1627</td>\n",
       "      <td>48</td>\n",
       "      <td>15</td>\n",
       "      <td>4</td>\n",
       "      <td>1</td>\n",
       "      <td>12</td>\n",
       "      <td>17</td>\n",
       "      <td>110</td>\n",
       "      <td>108</td>\n",
       "    </tr>\n",
       "    <tr>\n",
       "      <th>2</th>\n",
       "      <td>59</td>\n",
       "      <td>15</td>\n",
       "      <td>1389</td>\n",
       "      <td>43</td>\n",
       "      <td>29</td>\n",
       "      <td>2</td>\n",
       "      <td>114</td>\n",
       "      <td>28</td>\n",
       "      <td>128</td>\n",
       "      <td>4</td>\n",
       "    </tr>\n",
       "    <tr>\n",
       "      <th>3</th>\n",
       "      <td>30</td>\n",
       "      <td>16</td>\n",
       "      <td>78</td>\n",
       "      <td>1486</td>\n",
       "      <td>11</td>\n",
       "      <td>60</td>\n",
       "      <td>20</td>\n",
       "      <td>34</td>\n",
       "      <td>85</td>\n",
       "      <td>43</td>\n",
       "    </tr>\n",
       "    <tr>\n",
       "      <th>4</th>\n",
       "      <td>0</td>\n",
       "      <td>0</td>\n",
       "      <td>12</td>\n",
       "      <td>2</td>\n",
       "      <td>1461</td>\n",
       "      <td>17</td>\n",
       "      <td>30</td>\n",
       "      <td>1</td>\n",
       "      <td>30</td>\n",
       "      <td>190</td>\n",
       "    </tr>\n",
       "    <tr>\n",
       "      <th>5</th>\n",
       "      <td>178</td>\n",
       "      <td>2</td>\n",
       "      <td>61</td>\n",
       "      <td>324</td>\n",
       "      <td>116</td>\n",
       "      <td>800</td>\n",
       "      <td>26</td>\n",
       "      <td>22</td>\n",
       "      <td>87</td>\n",
       "      <td>21</td>\n",
       "    </tr>\n",
       "    <tr>\n",
       "      <th>6</th>\n",
       "      <td>5</td>\n",
       "      <td>11</td>\n",
       "      <td>68</td>\n",
       "      <td>0</td>\n",
       "      <td>186</td>\n",
       "      <td>12</td>\n",
       "      <td>1365</td>\n",
       "      <td>9</td>\n",
       "      <td>48</td>\n",
       "      <td>34</td>\n",
       "    </tr>\n",
       "    <tr>\n",
       "      <th>7</th>\n",
       "      <td>3</td>\n",
       "      <td>34</td>\n",
       "      <td>56</td>\n",
       "      <td>40</td>\n",
       "      <td>37</td>\n",
       "      <td>205</td>\n",
       "      <td>127</td>\n",
       "      <td>1395</td>\n",
       "      <td>4</td>\n",
       "      <td>34</td>\n",
       "    </tr>\n",
       "    <tr>\n",
       "      <th>8</th>\n",
       "      <td>45</td>\n",
       "      <td>30</td>\n",
       "      <td>42</td>\n",
       "      <td>190</td>\n",
       "      <td>181</td>\n",
       "      <td>50</td>\n",
       "      <td>20</td>\n",
       "      <td>4</td>\n",
       "      <td>1093</td>\n",
       "      <td>156</td>\n",
       "    </tr>\n",
       "    <tr>\n",
       "      <th>9</th>\n",
       "      <td>8</td>\n",
       "      <td>16</td>\n",
       "      <td>29</td>\n",
       "      <td>116</td>\n",
       "      <td>734</td>\n",
       "      <td>125</td>\n",
       "      <td>97</td>\n",
       "      <td>25</td>\n",
       "      <td>40</td>\n",
       "      <td>549</td>\n",
       "    </tr>\n",
       "  </tbody>\n",
       "</table>\n",
       "</div>"
      ],
      "text/plain": [
       "      0     1     2     3     4    5     6     7     8    9\n",
       "0  1555     0   138     7     7   22     6    12    33    0\n",
       "1     0  1627    48    15     4    1    12    17   110  108\n",
       "2    59    15  1389    43    29    2   114    28   128    4\n",
       "3    30    16    78  1486    11   60    20    34    85   43\n",
       "4     0     0    12     2  1461   17    30     1    30  190\n",
       "5   178     2    61   324   116  800    26    22    87   21\n",
       "6     5    11    68     0   186   12  1365     9    48   34\n",
       "7     3    34    56    40    37  205   127  1395     4   34\n",
       "8    45    30    42   190   181   50    20     4  1093  156\n",
       "9     8    16    29   116   734  125    97    25    40  549"
      ]
     },
     "execution_count": 32,
     "metadata": {},
     "output_type": "execute_result"
    }
   ],
   "source": [
    "confusionNN = getConfusion(preds, ynpTest)\n",
    "label = np.arange(10)\n",
    "cmNN = pandas.DataFrame(confusionNN, columns = label, index = label)\n",
    "print(\"Neural Network Confusion Matrix: \")\n",
    "cmNN"
   ]
  },
  {
   "cell_type": "markdown",
   "metadata": {},
   "source": [
    "    ////////// RAW DATA TO IMAGE //////////\n",
    "       only used for personal curiosity"
   ]
  },
  {
   "cell_type": "code",
   "execution_count": null,
   "metadata": {
    "tags": []
   },
   "outputs": [],
   "source": [
    "print(y[1])\n",
    "print(\"0\")\n",
    "d = np.array(dta[1])\n",
    "#print(d)\n",
    "s = 0\n",
    "imArr = []\n",
    "for i in range(1,28):\n",
    "    e = i*28\n",
    "    #print(d[s:e])\n",
    "    imArr.append((d[s:e]*255).astype(int))\n",
    "    s = e + 1\n",
    "imnpArr = np.array(imArr)"
   ]
  },
  {
   "cell_type": "code",
   "execution_count": null,
   "metadata": {},
   "outputs": [],
   "source": [
    "d2 = (d*255).astype(int)\n",
    "d2.resize((28,28))\n",
    "#print(d2)"
   ]
  },
  {
   "cell_type": "code",
   "execution_count": null,
   "metadata": {},
   "outputs": [],
   "source": [
    "from PIL import Image\n",
    "im = Image.fromarray(d2.astype(np.uint8), \"L\")\n",
    "im.show()"
   ]
  }
 ],
 "metadata": {
  "kernelspec": {
   "display_name": "Python 3",
   "language": "python",
   "name": "python3"
  },
  "language_info": {
   "codemirror_mode": {
    "name": "ipython",
    "version": 3
   },
   "file_extension": ".py",
   "mimetype": "text/x-python",
   "name": "python",
   "nbconvert_exporter": "python",
   "pygments_lexer": "ipython3",
   "version": "3.8.5"
  }
 },
 "nbformat": 4,
 "nbformat_minor": 4
}
